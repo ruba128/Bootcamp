{
  "nbformat": 4,
  "nbformat_minor": 0,
  "metadata": {
    "colab": {
      "name": "RESMLP.ipynb",
      "provenance": [],
      "collapsed_sections": []
    },
    "kernelspec": {
      "name": "python3",
      "display_name": "Python 3"
    },
    "language_info": {
      "name": "python"
    },
    "widgets": {
      "application/vnd.jupyter.widget-state+json": {
        "f6f66a14c19c42e48bb37e1b51745768": {
          "model_module": "@jupyter-widgets/controls",
          "model_name": "HBoxModel",
          "model_module_version": "1.5.0",
          "state": {
            "_view_name": "HBoxView",
            "_dom_classes": [],
            "_model_name": "HBoxModel",
            "_view_module": "@jupyter-widgets/controls",
            "_model_module_version": "1.5.0",
            "_view_count": null,
            "_view_module_version": "1.5.0",
            "box_style": "",
            "layout": "IPY_MODEL_cf9bc44edb77496885e1c14a5f94b875",
            "_model_module": "@jupyter-widgets/controls",
            "children": [
              "IPY_MODEL_3221b78cc97c4607a617455dfad728cb",
              "IPY_MODEL_73111bc3b9774918b0494dac17fc654e",
              "IPY_MODEL_edb6ff81f7ee4edca75174606f0a9f44"
            ]
          }
        },
        "cf9bc44edb77496885e1c14a5f94b875": {
          "model_module": "@jupyter-widgets/base",
          "model_name": "LayoutModel",
          "model_module_version": "1.2.0",
          "state": {
            "_view_name": "LayoutView",
            "grid_template_rows": null,
            "right": null,
            "justify_content": null,
            "_view_module": "@jupyter-widgets/base",
            "overflow": null,
            "_model_module_version": "1.2.0",
            "_view_count": null,
            "flex_flow": null,
            "width": null,
            "min_width": null,
            "border": null,
            "align_items": null,
            "bottom": null,
            "_model_module": "@jupyter-widgets/base",
            "top": null,
            "grid_column": null,
            "overflow_y": null,
            "overflow_x": null,
            "grid_auto_flow": null,
            "grid_area": null,
            "grid_template_columns": null,
            "flex": null,
            "_model_name": "LayoutModel",
            "justify_items": null,
            "grid_row": null,
            "max_height": null,
            "align_content": null,
            "visibility": null,
            "align_self": null,
            "height": null,
            "min_height": null,
            "padding": null,
            "grid_auto_rows": null,
            "grid_gap": null,
            "max_width": null,
            "order": null,
            "_view_module_version": "1.2.0",
            "grid_template_areas": null,
            "object_position": null,
            "object_fit": null,
            "grid_auto_columns": null,
            "margin": null,
            "display": null,
            "left": null
          }
        },
        "3221b78cc97c4607a617455dfad728cb": {
          "model_module": "@jupyter-widgets/controls",
          "model_name": "HTMLModel",
          "model_module_version": "1.5.0",
          "state": {
            "_view_name": "HTMLView",
            "style": "IPY_MODEL_f2d7044b9d794122a682eb9d48f065d4",
            "_dom_classes": [],
            "description": "",
            "_model_name": "HTMLModel",
            "placeholder": "​",
            "_view_module": "@jupyter-widgets/controls",
            "_model_module_version": "1.5.0",
            "value": "",
            "_view_count": null,
            "_view_module_version": "1.5.0",
            "description_tooltip": null,
            "_model_module": "@jupyter-widgets/controls",
            "layout": "IPY_MODEL_877a432504c245dc864321724031a5d8"
          }
        },
        "73111bc3b9774918b0494dac17fc654e": {
          "model_module": "@jupyter-widgets/controls",
          "model_name": "FloatProgressModel",
          "model_module_version": "1.5.0",
          "state": {
            "_view_name": "ProgressView",
            "style": "IPY_MODEL_1c9822d81e7f47edb2a577aa57ca045c",
            "_dom_classes": [],
            "description": "",
            "_model_name": "FloatProgressModel",
            "bar_style": "success",
            "max": 170498071,
            "_view_module": "@jupyter-widgets/controls",
            "_model_module_version": "1.5.0",
            "value": 170498071,
            "_view_count": null,
            "_view_module_version": "1.5.0",
            "orientation": "horizontal",
            "min": 0,
            "description_tooltip": null,
            "_model_module": "@jupyter-widgets/controls",
            "layout": "IPY_MODEL_6fd732efbe4f46a186d3fb442e05e9af"
          }
        },
        "edb6ff81f7ee4edca75174606f0a9f44": {
          "model_module": "@jupyter-widgets/controls",
          "model_name": "HTMLModel",
          "model_module_version": "1.5.0",
          "state": {
            "_view_name": "HTMLView",
            "style": "IPY_MODEL_394f215ce48c4e5281fd78b932e690b7",
            "_dom_classes": [],
            "description": "",
            "_model_name": "HTMLModel",
            "placeholder": "​",
            "_view_module": "@jupyter-widgets/controls",
            "_model_module_version": "1.5.0",
            "value": " 170499072/? [00:03&lt;00:00, 53826355.59it/s]",
            "_view_count": null,
            "_view_module_version": "1.5.0",
            "description_tooltip": null,
            "_model_module": "@jupyter-widgets/controls",
            "layout": "IPY_MODEL_633182333fac43fcb351d28b6bd43ce9"
          }
        },
        "f2d7044b9d794122a682eb9d48f065d4": {
          "model_module": "@jupyter-widgets/controls",
          "model_name": "DescriptionStyleModel",
          "model_module_version": "1.5.0",
          "state": {
            "_view_name": "StyleView",
            "_model_name": "DescriptionStyleModel",
            "description_width": "",
            "_view_module": "@jupyter-widgets/base",
            "_model_module_version": "1.5.0",
            "_view_count": null,
            "_view_module_version": "1.2.0",
            "_model_module": "@jupyter-widgets/controls"
          }
        },
        "877a432504c245dc864321724031a5d8": {
          "model_module": "@jupyter-widgets/base",
          "model_name": "LayoutModel",
          "model_module_version": "1.2.0",
          "state": {
            "_view_name": "LayoutView",
            "grid_template_rows": null,
            "right": null,
            "justify_content": null,
            "_view_module": "@jupyter-widgets/base",
            "overflow": null,
            "_model_module_version": "1.2.0",
            "_view_count": null,
            "flex_flow": null,
            "width": null,
            "min_width": null,
            "border": null,
            "align_items": null,
            "bottom": null,
            "_model_module": "@jupyter-widgets/base",
            "top": null,
            "grid_column": null,
            "overflow_y": null,
            "overflow_x": null,
            "grid_auto_flow": null,
            "grid_area": null,
            "grid_template_columns": null,
            "flex": null,
            "_model_name": "LayoutModel",
            "justify_items": null,
            "grid_row": null,
            "max_height": null,
            "align_content": null,
            "visibility": null,
            "align_self": null,
            "height": null,
            "min_height": null,
            "padding": null,
            "grid_auto_rows": null,
            "grid_gap": null,
            "max_width": null,
            "order": null,
            "_view_module_version": "1.2.0",
            "grid_template_areas": null,
            "object_position": null,
            "object_fit": null,
            "grid_auto_columns": null,
            "margin": null,
            "display": null,
            "left": null
          }
        },
        "1c9822d81e7f47edb2a577aa57ca045c": {
          "model_module": "@jupyter-widgets/controls",
          "model_name": "ProgressStyleModel",
          "model_module_version": "1.5.0",
          "state": {
            "_view_name": "StyleView",
            "_model_name": "ProgressStyleModel",
            "description_width": "",
            "_view_module": "@jupyter-widgets/base",
            "_model_module_version": "1.5.0",
            "_view_count": null,
            "_view_module_version": "1.2.0",
            "bar_color": null,
            "_model_module": "@jupyter-widgets/controls"
          }
        },
        "6fd732efbe4f46a186d3fb442e05e9af": {
          "model_module": "@jupyter-widgets/base",
          "model_name": "LayoutModel",
          "model_module_version": "1.2.0",
          "state": {
            "_view_name": "LayoutView",
            "grid_template_rows": null,
            "right": null,
            "justify_content": null,
            "_view_module": "@jupyter-widgets/base",
            "overflow": null,
            "_model_module_version": "1.2.0",
            "_view_count": null,
            "flex_flow": null,
            "width": null,
            "min_width": null,
            "border": null,
            "align_items": null,
            "bottom": null,
            "_model_module": "@jupyter-widgets/base",
            "top": null,
            "grid_column": null,
            "overflow_y": null,
            "overflow_x": null,
            "grid_auto_flow": null,
            "grid_area": null,
            "grid_template_columns": null,
            "flex": null,
            "_model_name": "LayoutModel",
            "justify_items": null,
            "grid_row": null,
            "max_height": null,
            "align_content": null,
            "visibility": null,
            "align_self": null,
            "height": null,
            "min_height": null,
            "padding": null,
            "grid_auto_rows": null,
            "grid_gap": null,
            "max_width": null,
            "order": null,
            "_view_module_version": "1.2.0",
            "grid_template_areas": null,
            "object_position": null,
            "object_fit": null,
            "grid_auto_columns": null,
            "margin": null,
            "display": null,
            "left": null
          }
        },
        "394f215ce48c4e5281fd78b932e690b7": {
          "model_module": "@jupyter-widgets/controls",
          "model_name": "DescriptionStyleModel",
          "model_module_version": "1.5.0",
          "state": {
            "_view_name": "StyleView",
            "_model_name": "DescriptionStyleModel",
            "description_width": "",
            "_view_module": "@jupyter-widgets/base",
            "_model_module_version": "1.5.0",
            "_view_count": null,
            "_view_module_version": "1.2.0",
            "_model_module": "@jupyter-widgets/controls"
          }
        },
        "633182333fac43fcb351d28b6bd43ce9": {
          "model_module": "@jupyter-widgets/base",
          "model_name": "LayoutModel",
          "model_module_version": "1.2.0",
          "state": {
            "_view_name": "LayoutView",
            "grid_template_rows": null,
            "right": null,
            "justify_content": null,
            "_view_module": "@jupyter-widgets/base",
            "overflow": null,
            "_model_module_version": "1.2.0",
            "_view_count": null,
            "flex_flow": null,
            "width": null,
            "min_width": null,
            "border": null,
            "align_items": null,
            "bottom": null,
            "_model_module": "@jupyter-widgets/base",
            "top": null,
            "grid_column": null,
            "overflow_y": null,
            "overflow_x": null,
            "grid_auto_flow": null,
            "grid_area": null,
            "grid_template_columns": null,
            "flex": null,
            "_model_name": "LayoutModel",
            "justify_items": null,
            "grid_row": null,
            "max_height": null,
            "align_content": null,
            "visibility": null,
            "align_self": null,
            "height": null,
            "min_height": null,
            "padding": null,
            "grid_auto_rows": null,
            "grid_gap": null,
            "max_width": null,
            "order": null,
            "_view_module_version": "1.2.0",
            "grid_template_areas": null,
            "object_position": null,
            "object_fit": null,
            "grid_auto_columns": null,
            "margin": null,
            "display": null,
            "left": null
          }
        }
      }
    },
    "accelerator": "GPU"
  },
  "cells": [
    {
      "cell_type": "markdown",
      "metadata": {
        "id": "iX74mpbNjmGd"
      },
      "source": [
        "#Necessary imports:"
      ]
    },
    {
      "cell_type": "code",
      "metadata": {
        "id": "jQQDwH4Bjp9y"
      },
      "source": [
        "import numpy as np\n",
        "import tensorflow as tf\n",
        "from argparse import Namespace\n",
        "import torch\n",
        "from torch import nn"
      ],
      "execution_count": 1,
      "outputs": []
    },
    {
      "cell_type": "code",
      "metadata": {
        "id": "RjLADDX8wII3"
      },
      "source": [
        "import os\n",
        "from torchvision import datasets, transforms\n",
        "import torchvision.transforms as transforms\n",
        "import torch.optim as optim"
      ],
      "execution_count": 2,
      "outputs": []
    },
    {
      "cell_type": "code",
      "metadata": {
        "id": "67YND93WRngx"
      },
      "source": [
        "from torch.nn import functional as F\n",
        "from torch.utils.data import Dataset, DataLoader\n",
        "from torchvision.datasets import CIFAR10\n",
        "\n"
      ],
      "execution_count": 3,
      "outputs": []
    },
    {
      "cell_type": "code",
      "metadata": {
        "id": "-rXe-JNKtkdT"
      },
      "source": [
        "args = Namespace(\n",
        "    #data specifc \n",
        "    data_set = 'Cifar10',    \n",
        "    img_size = 224, \n",
        "    patch_size = 16,\n",
        "    in_channels = 3,\n",
        "    num_classes = 10,\n",
        "    \n",
        "\n",
        "    #model specific \n",
        "    expansion_factor = 4,\n",
        "    hidden_dim = 384, \n",
        "    num_layers = 12,\n",
        "\n",
        "    #training specific \n",
        "    train = True,\n",
        "    seed = 1234,\n",
        "    batch_size = 32 ,\n",
        "    num_workers = 2,\n",
        "    device_num = 1,\n",
        "    weight_decay = 0.2, \n",
        "    lr = 1e-2,\n",
        "    cuda = True,\n",
        "    epochs = 40, \n",
        "    gradient_clip = 1,\n",
        "    print_intervals = 100,\n",
        "    evaluation = False,\n",
        "    checkpoints = None\n",
        "\n",
        "\n",
        ")"
      ],
      "execution_count": 46,
      "outputs": []
    },
    {
      "cell_type": "markdown",
      "metadata": {
        "id": "rG8JBzmCi3Xr"
      },
      "source": [
        "#Data and dataloaders:"
      ]
    },
    {
      "cell_type": "code",
      "metadata": {
        "id": "8mqNcC2r5CJw"
      },
      "source": [
        "#custom function to create transformation on the data\n",
        "#according to the original implementation but with different normalization params for cifar10\n",
        "def Transform(istrain = True):\n",
        "  train_transform = transforms.Compose([\n",
        "        transforms.Resize(args.img_size),\n",
        "        transforms.ColorJitter(brightness=.5, hue=.3),\n",
        "        transforms.RandomCrop(args.img_size),\n",
        "        transforms.RandomHorizontalFlip(),\n",
        "        transforms.ToTensor(),\n",
        "        transforms.Normalize((0.49186879012009144, 0.49186718149259584, 0.4918576560374895), (0.24697121702736008, 0.24697385050936618, 0.24697837906971906))])\n",
        "  \n",
        "  test_transform = transforms.Compose([\n",
        "        transforms.Resize(args.img_size),\n",
        "        transforms.RandomCrop(args.img_size),\n",
        "        transforms.ToTensor(),\n",
        "        transforms.Normalize((0.49186879012009144, 0.49186718149259584, 0.4918576560374895), (0.24697121702736008, 0.24697385050936618, 0.24697837906971906))])\n",
        "  if istrain:\n",
        "    return train_transform\n",
        "  return test_transform"
      ],
      "execution_count": 5,
      "outputs": []
    },
    {
      "cell_type": "code",
      "metadata": {
        "colab": {
          "base_uri": "https://localhost:8080/",
          "height": 99,
          "referenced_widgets": [
            "f6f66a14c19c42e48bb37e1b51745768",
            "cf9bc44edb77496885e1c14a5f94b875",
            "3221b78cc97c4607a617455dfad728cb",
            "73111bc3b9774918b0494dac17fc654e",
            "edb6ff81f7ee4edca75174606f0a9f44",
            "f2d7044b9d794122a682eb9d48f065d4",
            "877a432504c245dc864321724031a5d8",
            "1c9822d81e7f47edb2a577aa57ca045c",
            "6fd732efbe4f46a186d3fb442e05e9af",
            "394f215ce48c4e5281fd78b932e690b7",
            "633182333fac43fcb351d28b6bd43ce9"
          ]
        },
        "id": "4FI_MmzB48Hg",
        "outputId": "fb833035-9011-4ec5-bb7e-6e4702c134a1"
      },
      "source": [
        "#loading the Cifar10 train and test datasets\n",
        "train_dataset = CIFAR10('./data', train=True, transform=Transform(), download=True)\n",
        "test_dataset = CIFAR10('./data', train=False, transform=Transform(False), download=True)\n",
        "\n",
        "#creating train and test dataloaders\n",
        "train_loader = DataLoader(train_dataset, batch_size=args.batch_size, shuffle=True, num_workers=args.num_workers)\n",
        "test_loader = DataLoader(test_dataset, batch_size=128, shuffle=False, num_workers=args.num_workers)\n"
      ],
      "execution_count": 6,
      "outputs": [
        {
          "output_type": "stream",
          "text": [
            "Downloading https://www.cs.toronto.edu/~kriz/cifar-10-python.tar.gz to ./data/cifar-10-python.tar.gz\n"
          ],
          "name": "stdout"
        },
        {
          "output_type": "display_data",
          "data": {
            "application/vnd.jupyter.widget-view+json": {
              "model_id": "f6f66a14c19c42e48bb37e1b51745768",
              "version_minor": 0,
              "version_major": 2
            },
            "text/plain": [
              "  0%|          | 0/170498071 [00:00<?, ?it/s]"
            ]
          },
          "metadata": {}
        },
        {
          "output_type": "stream",
          "text": [
            "Extracting ./data/cifar-10-python.tar.gz to ./data\n",
            "Files already downloaded and verified\n"
          ],
          "name": "stdout"
        }
      ]
    },
    {
      "cell_type": "markdown",
      "metadata": {
        "id": "-4vD25aD2YJC"
      },
      "source": [
        "#Model"
      ]
    },
    {
      "cell_type": "markdown",
      "metadata": {
        "id": "vGseNjJzA2QD"
      },
      "source": [
        "![resmlparch.png](data:image/png;base64,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)"
      ]
    },
    {
      "cell_type": "code",
      "metadata": {
        "id": "phrJjJ6QRc45"
      },
      "source": [
        "#Affine transformation used in the paper Affα,β(x) = α x + β\n",
        "class Affine(nn.Module):\n",
        "    def __init__(self, num_features):\n",
        "        super().__init__()\n",
        "        self.alpha = nn.Parameter(torch.ones(1, 1, num_features))\n",
        "        self.beta = nn.Parameter(torch.zeros(1, 1, num_features))\n",
        "\n",
        "    def forward(self, x):\n",
        "        return self.alpha * x + self.beta\n",
        "\n",
        "#Cross patch sublayer (first block)\n",
        "class Cross_Patch_Sublayer(nn.Module):\n",
        "    def __init__(self, num_features, num_patches):\n",
        "        super().__init__()\n",
        "        self.aff1 = Affine(num_features)\n",
        "        self.fc = nn.Linear(num_patches, num_patches)\n",
        "        self.aff2 = Affine(num_features)\n",
        "\n",
        "    def forward(self, x):\n",
        "        res = x\n",
        "        x = self.aff1(x)\n",
        "        x = self.fc(x.transpose(1, 2)).transpose(1, 2)\n",
        "        x = self.aff2(x)\n",
        "        out = x + res\n",
        "        return out\n",
        "\n",
        "#Cross channel sublayer (second block)\n",
        "class Cross_Channel_Sublayer(nn.Module):\n",
        "    def __init__(self, num_features, expansion_factor):\n",
        "        super().__init__()\n",
        "        num_hidden = num_features * expansion_factor\n",
        "        self.aff1 = Affine(num_features)\n",
        "        self.linear1 = nn.Linear(num_features, num_hidden)\n",
        "        self.linear2 = nn.Linear(num_hidden, num_features)\n",
        "        self.aff2 = Affine(num_features)\n",
        "\n",
        "    def forward(self, x):\n",
        "        residual = x\n",
        "        x = self.aff1(x)\n",
        "        x = self.linear1(x)\n",
        "        x = F.gelu(x)\n",
        "        x = self.linear2(x)\n",
        "        x = self.aff2(x)\n",
        "        out = x + residual\n",
        "        return out\n",
        "\n",
        "#full block of the architecture \n",
        "class ResMLPLayer(nn.Module):\n",
        "    def __init__(self, num_features, num_patches, expansion_factor):\n",
        "        super().__init__()\n",
        "        self.cpl = Cross_Patch_Sublayer(num_features, num_patches)\n",
        "        self.ccl = Cross_Channel_Sublayer(num_features, expansion_factor)\n",
        "\n",
        "    def forward(self, x):\n",
        "        x = self.cpl(x)\n",
        "        out = self.ccl(x)\n",
        "        return out\n",
        "  \n",
        "#Full model \n",
        "class ResMLP(nn.Module):\n",
        "    def __init__( self, image_size = args.img_size, patch_size = args.patch_size, in_channels = args.in_channels, num_features = args.hidden_dim, expansion_factor = args.expansion_factor, num_layers = args.num_layers, num_classes = args.num_classes):\n",
        "        super().__init__()\n",
        "        #calculate the number of patches + verify dimensions\n",
        "        sqrt_num_patches, remainder = divmod(image_size, patch_size)\n",
        "        assert remainder == 0,     \"image is not equally divisable by patch size\"\n",
        "        num_patches = sqrt_num_patches ** 2\n",
        "        #extract patches\n",
        "        self.patches = nn.Conv2d(in_channels, num_features, kernel_size=patch_size, stride=patch_size)\n",
        "        #repeat layers\n",
        "        self.ResMLP = nn.Sequential(*[ ResMLPLayer(num_features, num_patches, expansion_factor) for _ in range(num_layers)])\n",
        "        #classification head\n",
        "        self.classifier = nn.Linear(num_features, num_classes)\n",
        "\n",
        "    def forward(self, x):\n",
        "        img_patches = self.patches(x)\n",
        "        batch_size, num_features, _, _ = img_patches.shape                      # [bs, hidden, patch_size, patch_size]\n",
        "        img_patches = img_patches.permute(0, 2, 3, 1)                           # [bs, patch_size, patch_size, hidden]\n",
        "        img_patches = img_patches.view(batch_size, -1, num_features)            # [bs, patch_size*patch_size, hidden]\n",
        "        h = self.ResMLP(img_patches)\n",
        "        h = torch.mean(h, dim=1)\n",
        "        logits = self.classifier(h)\n",
        "        return logits"
      ],
      "execution_count": 34,
      "outputs": []
    },
    {
      "cell_type": "markdown",
      "metadata": {
        "id": "ZuvA66yGr2Hm"
      },
      "source": [
        "#Optimizer "
      ]
    },
    {
      "cell_type": "code",
      "metadata": {
        "colab": {
          "base_uri": "https://localhost:8080/"
        },
        "id": "QUGY-PDOr8k4",
        "outputId": "70cf4d77-0dc7-40e6-b307-a8e3c1602ae9"
      },
      "source": [
        "!pip install tensorboardX\n",
        "import collections\n",
        "import math\n",
        "from tensorboardX import SummaryWriter\n",
        "from torch.optim import Optimizer"
      ],
      "execution_count": 9,
      "outputs": [
        {
          "output_type": "stream",
          "text": [
            "Collecting tensorboardX\n",
            "  Downloading tensorboardX-2.4-py2.py3-none-any.whl (124 kB)\n",
            "\u001b[?25l\r\u001b[K     |██▋                             | 10 kB 37.6 MB/s eta 0:00:01\r\u001b[K     |█████▎                          | 20 kB 27.3 MB/s eta 0:00:01\r\u001b[K     |████████                        | 30 kB 18.4 MB/s eta 0:00:01\r\u001b[K     |██████████▌                     | 40 kB 15.8 MB/s eta 0:00:01\r\u001b[K     |█████████████▏                  | 51 kB 9.1 MB/s eta 0:00:01\r\u001b[K     |███████████████▉                | 61 kB 9.3 MB/s eta 0:00:01\r\u001b[K     |██████████████████▍             | 71 kB 9.1 MB/s eta 0:00:01\r\u001b[K     |█████████████████████           | 81 kB 10.2 MB/s eta 0:00:01\r\u001b[K     |███████████████████████▊        | 92 kB 7.9 MB/s eta 0:00:01\r\u001b[K     |██████████████████████████▎     | 102 kB 8.6 MB/s eta 0:00:01\r\u001b[K     |█████████████████████████████   | 112 kB 8.6 MB/s eta 0:00:01\r\u001b[K     |███████████████████████████████▋| 122 kB 8.6 MB/s eta 0:00:01\r\u001b[K     |████████████████████████████████| 124 kB 8.6 MB/s \n",
            "\u001b[?25hRequirement already satisfied: numpy in /usr/local/lib/python3.7/dist-packages (from tensorboardX) (1.19.5)\n",
            "Requirement already satisfied: protobuf>=3.8.0 in /usr/local/lib/python3.7/dist-packages (from tensorboardX) (3.17.3)\n",
            "Requirement already satisfied: six>=1.9 in /usr/local/lib/python3.7/dist-packages (from protobuf>=3.8.0->tensorboardX) (1.15.0)\n",
            "Installing collected packages: tensorboardX\n",
            "Successfully installed tensorboardX-2.4\n"
          ],
          "name": "stdout"
        }
      ]
    },
    {
      "cell_type": "code",
      "metadata": {
        "id": "OX_0iUZ3WSWQ"
      },
      "source": [
        "# Reference\n",
        "# https://github.com/cybertronai/pytorch-lamb\n",
        "\n",
        "class Lamb(Optimizer):\n",
        "    def __init__(self, params, lr=1e-3, betas=(0.9, 0.999), eps=1e-6,\n",
        "                 weight_decay=0, adam=False):\n",
        "        if not 0.0 <= lr:\n",
        "            raise ValueError(\"Invalid learning rate: {}\".format(lr))\n",
        "        if not 0.0 <= eps:\n",
        "            raise ValueError(\"Invalid epsilon value: {}\".format(eps))\n",
        "        if not 0.0 <= betas[0] < 1.0:\n",
        "            raise ValueError(\"Invalid beta parameter at index 0: {}\".format(betas[0]))\n",
        "        if not 0.0 <= betas[1] < 1.0:\n",
        "            raise ValueError(\"Invalid beta parameter at index 1: {}\".format(betas[1]))\n",
        "        defaults = dict(lr=lr, betas=betas, eps=eps,\n",
        "                        weight_decay=weight_decay)\n",
        "        self.adam = adam\n",
        "        super(Lamb, self).__init__(params, defaults)\n",
        "\n",
        "    def step(self, closure=None):\n",
        "        \"\"\"Performs a single optimization step.\n",
        "        Arguments:\n",
        "            closure (callable, optional): A closure that reevaluates the model\n",
        "                and returns the loss.\n",
        "        \"\"\"\n",
        "        loss = None\n",
        "        if closure is not None:\n",
        "            loss = closure()\n",
        "\n",
        "        for group in self.param_groups:\n",
        "            for p in group['params']:\n",
        "                if p.grad is None:\n",
        "                    continue\n",
        "                grad = p.grad.data\n",
        "                if grad.is_sparse:\n",
        "                    raise RuntimeError('Lamb does not support sparse gradients, consider SparseAdam instad.')\n",
        "\n",
        "                state = self.state[p]\n",
        "\n",
        "                # State initialization\n",
        "                if len(state) == 0:\n",
        "                    state['step'] = 0\n",
        "                    # Exponential moving average of gradient values\n",
        "                    state['exp_avg'] = torch.zeros_like(p.data)\n",
        "                    # Exponential moving average of squared gradient values\n",
        "                    state['exp_avg_sq'] = torch.zeros_like(p.data)\n",
        "\n",
        "                exp_avg, exp_avg_sq = state['exp_avg'], state['exp_avg_sq']\n",
        "                beta1, beta2 = group['betas']\n",
        "\n",
        "                state['step'] += 1\n",
        "\n",
        "                # Decay the first and second moment running average coefficient\n",
        "                # m_t\n",
        "                exp_avg.mul_(beta1).add_(grad, alpha=1 - beta1)\n",
        "                # v_t\n",
        "                exp_avg_sq.mul_(beta2).addcmul_(grad, grad, value=1 - beta2)\n",
        "\n",
        "                # Paper v3 does not use debiasing.\n",
        "                # bias_correction1 = 1 - beta1 ** state['step']\n",
        "                # bias_correction2 = 1 - beta2 ** state['step']\n",
        "                # Apply bias to lr to avoid broadcast.\n",
        "                step_size = group['lr'] # * math.sqrt(bias_correction2) / bias_correction1\n",
        "\n",
        "                weight_norm = p.data.pow(2).sum().sqrt().clamp(0, 10)\n",
        "\n",
        "                adam_step = exp_avg / exp_avg_sq.sqrt().add(group['eps'])\n",
        "                if group['weight_decay'] != 0:\n",
        "                    adam_step.add_(p.data, alpha=group['weight_decay'])\n",
        "\n",
        "                adam_norm = adam_step.pow(2).sum().sqrt()\n",
        "                if weight_norm == 0 or adam_norm == 0:\n",
        "                    trust_ratio = 1\n",
        "                else:\n",
        "                    trust_ratio = weight_norm / adam_norm\n",
        "                state['weight_norm'] = weight_norm\n",
        "                state['adam_norm'] = adam_norm\n",
        "                state['trust_ratio'] = trust_ratio\n",
        "                if self.adam:\n",
        "                    trust_ratio = 1\n",
        "\n",
        "                p.data.add_(adam_step, alpha=-step_size * trust_ratio)\n",
        "\n",
        "        return loss"
      ],
      "execution_count": 10,
      "outputs": []
    },
    {
      "cell_type": "markdown",
      "metadata": {
        "id": "Is9XvFxgdXOT"
      },
      "source": [
        "#Main"
      ]
    },
    {
      "cell_type": "code",
      "metadata": {
        "id": "bOWE-GM46OVt"
      },
      "source": [
        "def adjust_learning_rate(optimizer, epoch, args):\n",
        "    \"\"\"decay the lr by 10 every 10 epochs\"\"\"\n",
        "    lr = args.lr * (0.1 ** (epoch // 10))\n",
        "    for param_group in optimizer.param_groups:\n",
        "        param_group['lr'] = lr"
      ],
      "execution_count": 45,
      "outputs": []
    },
    {
      "cell_type": "code",
      "metadata": {
        "id": "wIYHFQxw55O1"
      },
      "source": [
        "def save_checkpoint(best_acc, model, optimizer, args, epoch):\n",
        "    model_state_dict = model.state_dict()\n",
        "    torch.save({\n",
        "        'model_state_dict': model_state_dict,\n",
        "        'epoch': epoch,\n",
        "        'optimizer_state_dict': optimizer.state_dict(),\n",
        "        'acc': best_acc,\n",
        "    }, os.path.join('checkpoints2', 'checkpoint_model_best.pth'))\n"
      ],
      "execution_count": 12,
      "outputs": []
    },
    {
      "cell_type": "code",
      "metadata": {
        "id": "LEhdEXmH8qRq"
      },
      "source": [
        "def train(epoch, train_loader, model, optimizer, criterion, args):\n",
        "    #put model into training mode \n",
        "    model.train()\n",
        "    losses = 0.\n",
        "    acc = 0.\n",
        "    length = len(train_loader.dataset)\n",
        "    for i, (data, label) in enumerate(train_loader):\n",
        "        data, label = data.cuda(), label.cuda()\n",
        "        #forward pass\n",
        "        logits = model(data) \n",
        "        a, pred = F.softmax(logits, dim=-1).max(1)\n",
        "        acc += pred.eq(label).sum().item()\n",
        "        optimizer.zero_grad()\n",
        "        loss = criterion(logits, label)\n",
        "        losses += loss\n",
        "        #backprop\n",
        "        loss.backward()\n",
        "        #gradient clipping\n",
        "        if args.gradient_clip > 0:\n",
        "            torch.nn.utils.clip_grad_norm_(model.parameters(), args.gradient_clip)\n",
        "\n",
        "        optimizer.step()\n",
        "        if i % args.print_intervals == 0 and i != 0:\n",
        "            print('Epoch: {0:4d} ,  \\t Loss: {1:.3f}'.format(epoch, losses / (i + 1)))\n",
        "\n",
        "    return losses / (i + 1)\n"
      ],
      "execution_count": 59,
      "outputs": []
    },
    {
      "cell_type": "code",
      "metadata": {
        "id": "s-8gDnvu5ePX"
      },
      "source": [
        "def evalu(epoch, data_loader, model, args):\n",
        "    #put model into eval mode \n",
        "    model.eval()\n",
        "    acc = 0\n",
        "    with torch.no_grad():\n",
        "        for data, target in data_loader:\n",
        "            data, target = data.cuda(), target.cuda()\n",
        "            output = model(data)\n",
        "            _, pred = F.softmax(output, dim=-1).max(1)\n",
        "            acc += pred.eq(target).sum().item()\n",
        "\n",
        "    return acc / len(data_loader.dataset) * 100.\n"
      ],
      "execution_count": 61,
      "outputs": []
    },
    {
      "cell_type": "code",
      "metadata": {
        "colab": {
          "base_uri": "https://localhost:8080/",
          "height": 1000
        },
        "id": "CqtAlzEq9oH2",
        "outputId": "ce984411-4ab3-4891-92d4-c5f6d9040b91"
      },
      "source": [
        "model = ResMLP()\n",
        "optimizer = Lamb(model.parameters(), lr=args.lr, weight_decay=args.weight_decay, betas=(.9, .999))\n",
        "\n",
        "model = model.cuda()\n",
        "\n",
        "if not os.path.isdir('checkpoints2'):\n",
        "  os.mkdir('checkpoints2')\n",
        "\n",
        "if args.checkpoints is not None:\n",
        "    checkpoints = torch.load(os.path.join('checkpoints', args.checkpoints))\n",
        "    model.load_state_dict(checkpoints['model_state_dict'])\n",
        "    optimizer.load_state_dict(checkpoints['optimizer_state_dict'])\n",
        "    start_epoch = checkpoints['epoch']\n",
        "    print(\"Best acc: {}\".format(checkpoints['acc']))\n",
        "else:\n",
        "    start_epoch = 1\n",
        "\n",
        "if args.train:\n",
        "  criterion = nn.CrossEntropyLoss()\n",
        "  lr_scheduler = optim.lr_scheduler.CosineAnnealingWarmRestarts(optimizer, T_0=10, T_mult=2, eta_min=0.0001)       #delete and try with optimizer step\n",
        "\n",
        "  prev_best_acc = 0\n",
        "  train_loss = []\n",
        "  train_acc = []\n",
        "  test_acc= [] \n",
        "  for epoch in range(start_epoch, args.epochs + 1):\n",
        "      loss = train(epoch, train_loader, model, optimizer, criterion, args)\n",
        "      train_loss.append(loss)\n",
        "\n",
        "\n",
        "      curr_train_acc = evalu(epoch, train_loader, model, args)\n",
        "      train_acc.append(curr_train_acc)\n",
        "      print('[Epoch: {0:4d}], \\t \\t Train Acc: {1:.3f}'.format(epoch, curr_train_acc ))\n",
        "        \n",
        "\n",
        "      curr_test_acc = evalu(epoch, test_loader, model, args)\n",
        "      test_acc.append(curr_test_acc)\n",
        "      print('[Epoch: {0:4d}], \\t \\t Test Acc: {1:.3f}'.format(epoch, curr_test_acc ))\n",
        "        \n",
        "\n",
        "      if prev_best_acc < curr_acc:\n",
        "          prev_best_acc = curr_acc\n",
        "          save_checkpoint(curr_acc, model, optimizer, args, epoch)\n",
        "      adjust_learning_rate(optimizer, epoch, args)\n",
        "\n",
        "else:\n",
        "    evalu(start_epoch, test_loader, model, args)"
      ],
      "execution_count": 62,
      "outputs": [
        {
          "output_type": "stream",
          "text": [
            "Epoch:    1 ,  \t Loss: 2.405\n",
            "Epoch:    1 ,  \t Loss: 2.263\n",
            "Epoch:    1 ,  \t Loss: 2.163\n",
            "Epoch:    1 ,  \t Loss: 2.086\n",
            "Epoch:    1 ,  \t Loss: 2.027\n",
            "Epoch:    1 ,  \t Loss: 1.975\n",
            "Epoch:    1 ,  \t Loss: 1.929\n",
            "Epoch:    1 ,  \t Loss: 1.887\n",
            "Epoch:    1 ,  \t Loss: 1.854\n",
            "Epoch:    1 ,  \t Loss: 1.822\n",
            "Epoch:    1 ,  \t Loss: 1.796\n",
            "Epoch:    1 ,  \t Loss: 1.769\n",
            "Epoch:    1 ,  \t Loss: 1.744\n",
            "Epoch:    1 ,  \t Loss: 1.722\n",
            "Epoch:    1 ,  \t Loss: 1.703\n",
            "[Epoch:    1], \t \t Train Acc: 50.032\n",
            "[Epoch:    1], \t \t Test Acc: 52.210\n",
            "Epoch:    2 ,  \t Loss: 1.375\n",
            "Epoch:    2 ,  \t Loss: 1.371\n",
            "Epoch:    2 ,  \t Loss: 1.374\n",
            "Epoch:    2 ,  \t Loss: 1.372\n",
            "Epoch:    2 ,  \t Loss: 1.373\n",
            "Epoch:    2 ,  \t Loss: 1.372\n",
            "Epoch:    2 ,  \t Loss: 1.366\n",
            "Epoch:    2 ,  \t Loss: 1.360\n",
            "Epoch:    2 ,  \t Loss: 1.355\n",
            "Epoch:    2 ,  \t Loss: 1.349\n",
            "Epoch:    2 ,  \t Loss: 1.344\n",
            "Epoch:    2 ,  \t Loss: 1.342\n",
            "Epoch:    2 ,  \t Loss: 1.336\n",
            "Epoch:    2 ,  \t Loss: 1.335\n",
            "Epoch:    2 ,  \t Loss: 1.331\n",
            "[Epoch:    2], \t \t Train Acc: 56.380\n",
            "[Epoch:    2], \t \t Test Acc: 56.730\n",
            "Epoch:    3 ,  \t Loss: 1.187\n",
            "Epoch:    3 ,  \t Loss: 1.202\n",
            "Epoch:    3 ,  \t Loss: 1.206\n",
            "Epoch:    3 ,  \t Loss: 1.214\n",
            "Epoch:    3 ,  \t Loss: 1.222\n",
            "Epoch:    3 ,  \t Loss: 1.219\n",
            "Epoch:    3 ,  \t Loss: 1.215\n",
            "Epoch:    3 ,  \t Loss: 1.217\n",
            "Epoch:    3 ,  \t Loss: 1.216\n",
            "Epoch:    3 ,  \t Loss: 1.216\n",
            "Epoch:    3 ,  \t Loss: 1.215\n",
            "Epoch:    3 ,  \t Loss: 1.215\n",
            "Epoch:    3 ,  \t Loss: 1.217\n",
            "Epoch:    3 ,  \t Loss: 1.213\n",
            "Epoch:    3 ,  \t Loss: 1.212\n",
            "[Epoch:    3], \t \t Train Acc: 60.724\n",
            "[Epoch:    3], \t \t Test Acc: 59.730\n",
            "Epoch:    4 ,  \t Loss: 1.115\n",
            "Epoch:    4 ,  \t Loss: 1.133\n",
            "Epoch:    4 ,  \t Loss: 1.139\n",
            "Epoch:    4 ,  \t Loss: 1.135\n",
            "Epoch:    4 ,  \t Loss: 1.137\n",
            "Epoch:    4 ,  \t Loss: 1.136\n",
            "Epoch:    4 ,  \t Loss: 1.131\n",
            "Epoch:    4 ,  \t Loss: 1.130\n",
            "Epoch:    4 ,  \t Loss: 1.128\n",
            "Epoch:    4 ,  \t Loss: 1.131\n",
            "Epoch:    4 ,  \t Loss: 1.130\n",
            "Epoch:    4 ,  \t Loss: 1.133\n",
            "Epoch:    4 ,  \t Loss: 1.136\n",
            "Epoch:    4 ,  \t Loss: 1.136\n",
            "Epoch:    4 ,  \t Loss: 1.138\n",
            "[Epoch:    4], \t \t Train Acc: 62.042\n",
            "[Epoch:    4], \t \t Test Acc: 60.370\n",
            "Epoch:    5 ,  \t Loss: 1.071\n",
            "Epoch:    5 ,  \t Loss: 1.067\n",
            "Epoch:    5 ,  \t Loss: 1.061\n",
            "Epoch:    5 ,  \t Loss: 1.069\n",
            "Epoch:    5 ,  \t Loss: 1.083\n",
            "Epoch:    5 ,  \t Loss: 1.085\n",
            "Epoch:    5 ,  \t Loss: 1.085\n",
            "Epoch:    5 ,  \t Loss: 1.090\n",
            "Epoch:    5 ,  \t Loss: 1.087\n",
            "Epoch:    5 ,  \t Loss: 1.089\n",
            "Epoch:    5 ,  \t Loss: 1.091\n",
            "Epoch:    5 ,  \t Loss: 1.093\n",
            "Epoch:    5 ,  \t Loss: 1.096\n",
            "Epoch:    5 ,  \t Loss: 1.096\n",
            "Epoch:    5 ,  \t Loss: 1.095\n",
            "[Epoch:    5], \t \t Train Acc: 62.910\n",
            "[Epoch:    5], \t \t Test Acc: 61.290\n",
            "Epoch:    6 ,  \t Loss: 1.082\n",
            "Epoch:    6 ,  \t Loss: 1.067\n",
            "Epoch:    6 ,  \t Loss: 1.068\n",
            "Epoch:    6 ,  \t Loss: 1.065\n",
            "Epoch:    6 ,  \t Loss: 1.067\n",
            "Epoch:    6 ,  \t Loss: 1.065\n",
            "Epoch:    6 ,  \t Loss: 1.064\n",
            "Epoch:    6 ,  \t Loss: 1.063\n",
            "Epoch:    6 ,  \t Loss: 1.066\n",
            "Epoch:    6 ,  \t Loss: 1.067\n",
            "Epoch:    6 ,  \t Loss: 1.067\n",
            "Epoch:    6 ,  \t Loss: 1.066\n",
            "Epoch:    6 ,  \t Loss: 1.068\n",
            "Epoch:    6 ,  \t Loss: 1.068\n",
            "Epoch:    6 ,  \t Loss: 1.069\n",
            "[Epoch:    6], \t \t Train Acc: 65.216\n",
            "[Epoch:    6], \t \t Test Acc: 63.100\n",
            "Epoch:    7 ,  \t Loss: 1.021\n",
            "Epoch:    7 ,  \t Loss: 1.023\n",
            "Epoch:    7 ,  \t Loss: 1.027\n",
            "Epoch:    7 ,  \t Loss: 1.030\n",
            "Epoch:    7 ,  \t Loss: 1.032\n",
            "Epoch:    7 ,  \t Loss: 1.034\n",
            "Epoch:    7 ,  \t Loss: 1.034\n",
            "Epoch:    7 ,  \t Loss: 1.040\n",
            "Epoch:    7 ,  \t Loss: 1.041\n",
            "Epoch:    7 ,  \t Loss: 1.041\n",
            "Epoch:    7 ,  \t Loss: 1.045\n",
            "Epoch:    7 ,  \t Loss: 1.047\n",
            "Epoch:    7 ,  \t Loss: 1.049\n",
            "Epoch:    7 ,  \t Loss: 1.050\n",
            "Epoch:    7 ,  \t Loss: 1.052\n",
            "[Epoch:    7], \t \t Train Acc: 65.360\n",
            "[Epoch:    7], \t \t Test Acc: 62.630\n",
            "Epoch:    8 ,  \t Loss: 0.991\n",
            "Epoch:    8 ,  \t Loss: 0.988\n",
            "Epoch:    8 ,  \t Loss: 1.005\n",
            "Epoch:    8 ,  \t Loss: 1.007\n",
            "Epoch:    8 ,  \t Loss: 1.011\n",
            "Epoch:    8 ,  \t Loss: 1.018\n",
            "Epoch:    8 ,  \t Loss: 1.024\n",
            "Epoch:    8 ,  \t Loss: 1.024\n",
            "Epoch:    8 ,  \t Loss: 1.025\n",
            "Epoch:    8 ,  \t Loss: 1.026\n",
            "Epoch:    8 ,  \t Loss: 1.028\n",
            "Epoch:    8 ,  \t Loss: 1.030\n",
            "Epoch:    8 ,  \t Loss: 1.034\n",
            "Epoch:    8 ,  \t Loss: 1.036\n",
            "Epoch:    8 ,  \t Loss: 1.036\n",
            "[Epoch:    8], \t \t Train Acc: 64.296\n",
            "[Epoch:    8], \t \t Test Acc: 61.470\n",
            "Epoch:    9 ,  \t Loss: 1.005\n",
            "Epoch:    9 ,  \t Loss: 1.001\n",
            "Epoch:    9 ,  \t Loss: 0.997\n",
            "Epoch:    9 ,  \t Loss: 0.995\n",
            "Epoch:    9 ,  \t Loss: 0.996\n",
            "Epoch:    9 ,  \t Loss: 0.996\n",
            "Epoch:    9 ,  \t Loss: 1.002\n",
            "Epoch:    9 ,  \t Loss: 1.003\n",
            "Epoch:    9 ,  \t Loss: 1.004\n",
            "Epoch:    9 ,  \t Loss: 1.006\n",
            "Epoch:    9 ,  \t Loss: 1.009\n",
            "Epoch:    9 ,  \t Loss: 1.014\n",
            "Epoch:    9 ,  \t Loss: 1.017\n",
            "Epoch:    9 ,  \t Loss: 1.020\n",
            "Epoch:    9 ,  \t Loss: 1.022\n",
            "[Epoch:    9], \t \t Train Acc: 65.480\n",
            "[Epoch:    9], \t \t Test Acc: 62.110\n",
            "Epoch:   10 ,  \t Loss: 0.964\n",
            "Epoch:   10 ,  \t Loss: 0.976\n",
            "Epoch:   10 ,  \t Loss: 0.975\n"
          ],
          "name": "stdout"
        },
        {
          "output_type": "error",
          "ename": "KeyboardInterrupt",
          "evalue": "ignored",
          "traceback": [
            "\u001b[0;31m---------------------------------------------------------------------------\u001b[0m",
            "\u001b[0;31mKeyboardInterrupt\u001b[0m                         Traceback (most recent call last)",
            "\u001b[0;32m<ipython-input-62-0e86db17dcc8>\u001b[0m in \u001b[0;36m<module>\u001b[0;34m()\u001b[0m\n\u001b[1;32m     25\u001b[0m   \u001b[0mtest_acc\u001b[0m\u001b[0;34m=\u001b[0m \u001b[0;34m[\u001b[0m\u001b[0;34m]\u001b[0m\u001b[0;34m\u001b[0m\u001b[0;34m\u001b[0m\u001b[0m\n\u001b[1;32m     26\u001b[0m   \u001b[0;32mfor\u001b[0m \u001b[0mepoch\u001b[0m \u001b[0;32min\u001b[0m \u001b[0mrange\u001b[0m\u001b[0;34m(\u001b[0m\u001b[0mstart_epoch\u001b[0m\u001b[0;34m,\u001b[0m \u001b[0margs\u001b[0m\u001b[0;34m.\u001b[0m\u001b[0mepochs\u001b[0m \u001b[0;34m+\u001b[0m \u001b[0;36m1\u001b[0m\u001b[0;34m)\u001b[0m\u001b[0;34m:\u001b[0m\u001b[0;34m\u001b[0m\u001b[0;34m\u001b[0m\u001b[0m\n\u001b[0;32m---> 27\u001b[0;31m       \u001b[0mloss\u001b[0m \u001b[0;34m=\u001b[0m \u001b[0mtrain\u001b[0m\u001b[0;34m(\u001b[0m\u001b[0mepoch\u001b[0m\u001b[0;34m,\u001b[0m \u001b[0mtrain_loader\u001b[0m\u001b[0;34m,\u001b[0m \u001b[0mmodel\u001b[0m\u001b[0;34m,\u001b[0m \u001b[0moptimizer\u001b[0m\u001b[0;34m,\u001b[0m \u001b[0mcriterion\u001b[0m\u001b[0;34m,\u001b[0m \u001b[0margs\u001b[0m\u001b[0;34m)\u001b[0m\u001b[0;34m\u001b[0m\u001b[0;34m\u001b[0m\u001b[0m\n\u001b[0m\u001b[1;32m     28\u001b[0m       \u001b[0mtrain_loss\u001b[0m\u001b[0;34m.\u001b[0m\u001b[0mappend\u001b[0m\u001b[0;34m(\u001b[0m\u001b[0mloss\u001b[0m\u001b[0;34m)\u001b[0m\u001b[0;34m\u001b[0m\u001b[0;34m\u001b[0m\u001b[0m\n\u001b[1;32m     29\u001b[0m \u001b[0;34m\u001b[0m\u001b[0m\n",
            "\u001b[0;32m<ipython-input-59-f08c3689fa73>\u001b[0m in \u001b[0;36mtrain\u001b[0;34m(epoch, train_loader, model, optimizer, criterion, args)\u001b[0m\n\u001b[1;32m     18\u001b[0m         \u001b[0;31m#gradient clipping\u001b[0m\u001b[0;34m\u001b[0m\u001b[0;34m\u001b[0m\u001b[0;34m\u001b[0m\u001b[0m\n\u001b[1;32m     19\u001b[0m         \u001b[0;32mif\u001b[0m \u001b[0margs\u001b[0m\u001b[0;34m.\u001b[0m\u001b[0mgradient_clip\u001b[0m \u001b[0;34m>\u001b[0m \u001b[0;36m0\u001b[0m\u001b[0;34m:\u001b[0m\u001b[0;34m\u001b[0m\u001b[0;34m\u001b[0m\u001b[0m\n\u001b[0;32m---> 20\u001b[0;31m             \u001b[0mtorch\u001b[0m\u001b[0;34m.\u001b[0m\u001b[0mnn\u001b[0m\u001b[0;34m.\u001b[0m\u001b[0mutils\u001b[0m\u001b[0;34m.\u001b[0m\u001b[0mclip_grad_norm_\u001b[0m\u001b[0;34m(\u001b[0m\u001b[0mmodel\u001b[0m\u001b[0;34m.\u001b[0m\u001b[0mparameters\u001b[0m\u001b[0;34m(\u001b[0m\u001b[0;34m)\u001b[0m\u001b[0;34m,\u001b[0m \u001b[0margs\u001b[0m\u001b[0;34m.\u001b[0m\u001b[0mgradient_clip\u001b[0m\u001b[0;34m)\u001b[0m\u001b[0;34m\u001b[0m\u001b[0;34m\u001b[0m\u001b[0m\n\u001b[0m\u001b[1;32m     21\u001b[0m \u001b[0;34m\u001b[0m\u001b[0m\n\u001b[1;32m     22\u001b[0m         \u001b[0moptimizer\u001b[0m\u001b[0;34m.\u001b[0m\u001b[0mstep\u001b[0m\u001b[0;34m(\u001b[0m\u001b[0;34m)\u001b[0m\u001b[0;34m\u001b[0m\u001b[0;34m\u001b[0m\u001b[0m\n",
            "\u001b[0;32m/usr/local/lib/python3.7/dist-packages/torch/nn/utils/clip_grad.py\u001b[0m in \u001b[0;36mclip_grad_norm_\u001b[0;34m(parameters, max_norm, norm_type, error_if_nonfinite)\u001b[0m\n\u001b[1;32m     41\u001b[0m     \u001b[0;32melse\u001b[0m\u001b[0;34m:\u001b[0m\u001b[0;34m\u001b[0m\u001b[0;34m\u001b[0m\u001b[0m\n\u001b[1;32m     42\u001b[0m         \u001b[0mtotal_norm\u001b[0m \u001b[0;34m=\u001b[0m \u001b[0mtorch\u001b[0m\u001b[0;34m.\u001b[0m\u001b[0mnorm\u001b[0m\u001b[0;34m(\u001b[0m\u001b[0mtorch\u001b[0m\u001b[0;34m.\u001b[0m\u001b[0mstack\u001b[0m\u001b[0;34m(\u001b[0m\u001b[0;34m[\u001b[0m\u001b[0mtorch\u001b[0m\u001b[0;34m.\u001b[0m\u001b[0mnorm\u001b[0m\u001b[0;34m(\u001b[0m\u001b[0mp\u001b[0m\u001b[0;34m.\u001b[0m\u001b[0mgrad\u001b[0m\u001b[0;34m.\u001b[0m\u001b[0mdetach\u001b[0m\u001b[0;34m(\u001b[0m\u001b[0;34m)\u001b[0m\u001b[0;34m,\u001b[0m \u001b[0mnorm_type\u001b[0m\u001b[0;34m)\u001b[0m\u001b[0;34m.\u001b[0m\u001b[0mto\u001b[0m\u001b[0;34m(\u001b[0m\u001b[0mdevice\u001b[0m\u001b[0;34m)\u001b[0m \u001b[0;32mfor\u001b[0m \u001b[0mp\u001b[0m \u001b[0;32min\u001b[0m \u001b[0mparameters\u001b[0m\u001b[0;34m]\u001b[0m\u001b[0;34m)\u001b[0m\u001b[0;34m,\u001b[0m \u001b[0mnorm_type\u001b[0m\u001b[0;34m)\u001b[0m\u001b[0;34m\u001b[0m\u001b[0;34m\u001b[0m\u001b[0m\n\u001b[0;32m---> 43\u001b[0;31m     \u001b[0;32mif\u001b[0m \u001b[0mtotal_norm\u001b[0m\u001b[0;34m.\u001b[0m\u001b[0misnan\u001b[0m\u001b[0;34m(\u001b[0m\u001b[0;34m)\u001b[0m \u001b[0;32mor\u001b[0m \u001b[0mtotal_norm\u001b[0m\u001b[0;34m.\u001b[0m\u001b[0misinf\u001b[0m\u001b[0;34m(\u001b[0m\u001b[0;34m)\u001b[0m\u001b[0;34m:\u001b[0m\u001b[0;34m\u001b[0m\u001b[0;34m\u001b[0m\u001b[0m\n\u001b[0m\u001b[1;32m     44\u001b[0m         \u001b[0;32mif\u001b[0m \u001b[0merror_if_nonfinite\u001b[0m\u001b[0;34m:\u001b[0m\u001b[0;34m\u001b[0m\u001b[0;34m\u001b[0m\u001b[0m\n\u001b[1;32m     45\u001b[0m             raise RuntimeError(\n",
            "\u001b[0;31mKeyboardInterrupt\u001b[0m: "
          ]
        }
      ]
    },
    {
      "cell_type": "code",
      "metadata": {
        "id": "574gxdlBBwsT"
      },
      "source": [
        "import matplotlib.pyplot as plt\n",
        "%matplotlib inline"
      ],
      "execution_count": 65,
      "outputs": []
    },
    {
      "cell_type": "code",
      "metadata": {
        "colab": {
          "base_uri": "https://localhost:8080/",
          "height": 295
        },
        "id": "cStAmjUYHp-4",
        "outputId": "96e03917-e3b7-4a7b-8f88-592d8d235239"
      },
      "source": [
        "x = np.arange(len(train_loss))\n",
        "plt.plot(x, train_loss, label='training loss')\n",
        "\n",
        "\n",
        "plt.xlabel(\"epochs\")\n",
        "plt.ylabel(\"Loss\")\n",
        "plt.title(\"Training Progress\")\n",
        "plt.legend(loc='upper right', frameon=True)\n",
        "plt.show()"
      ],
      "execution_count": 71,
      "outputs": [
        {
          "output_type": "display_data",
          "data": {
            "image/png": "[encoded data removed]",
            "text/plain": [
              "<Figure size 432x288 with 1 Axes>"
            ]
          },
          "metadata": {
            "needs_background": "light"
          }
        }
      ]
    },
    {
      "cell_type": "code",
      "metadata": {
        "colab": {
          "base_uri": "https://localhost:8080/",
          "height": 295
        },
        "id": "RI6uCbtIB6du",
        "outputId": "7b3d6151-b53b-4051-b3bb-b75d6b5f7327"
      },
      "source": [
        "x = np.arange(len(train_acc))\n",
        "plt.plot(x, train_acc, label='training Accuracy')\n",
        "plt.plot(x, test_acc, label='validation accuracy')\n",
        "\n",
        "plt.xlabel(\"epochs\")\n",
        "plt.ylabel(\"Accuracy\")\n",
        "plt.title(\"Training Progress\")\n",
        "plt.legend(loc='upper right', frameon=True)\n",
        "plt.show()"
      ],
      "execution_count": 70,
      "outputs": [
        {
          "output_type": "display_data",
          "data": {
            "image/png": "[encoded data removed]",
            "text/plain": [
              "<Figure size 432x288 with 1 Axes>"
            ]
          },
          "metadata": {
            "needs_background": "light"
          }
        }
      ]
    },
    {
      "cell_type": "code",
      "metadata": {
        "id": "Tf0tQyTmvydX"
      },
      "source": [
        ""
      ],
      "execution_count": null,
      "outputs": []
    },
    {
      "cell_type": "code",
      "metadata": {
        "id": "VJDrAuxHvyTR"
      },
      "source": [
        ""
      ],
      "execution_count": null,
      "outputs": []
    },
    {
      "cell_type": "code",
      "metadata": {
        "id": "-9TXEDy2vyB-"
      },
      "source": [
        ""
      ],
      "execution_count": null,
      "outputs": []
    },
    {
      "cell_type": "code",
      "metadata": {
        "id": "LFWWH48Qvx-B"
      },
      "source": [
        ""
      ],
      "execution_count": null,
      "outputs": []
    }
  ]
}